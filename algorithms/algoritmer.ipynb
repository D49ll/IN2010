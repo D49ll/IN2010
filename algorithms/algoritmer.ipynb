{
 "cells": [
  {
   "cell_type": "markdown",
   "id": "73cbf23a",
   "metadata": {},
   "source": [
    "## Rett-frem-søk\n",
    "Nedenfor ser du spesifikasjonen for søk algoritmen og pseudo implementasjonen\\\n",
    "<img align=\"left\" src=\"images/al_1.png\">\n",
    "<img align=\"left\" src=\"images/al_2.png\">"
   ]
  },
  {
   "cell_type": "code",
   "execution_count": 5,
   "id": "79924261",
   "metadata": {
    "scrolled": true
   },
   "outputs": [
    {
     "name": "stdout",
     "output_type": "stream",
     "text": [
      "9 er i A: False\n",
      "6 er i A: True\n"
     ]
    }
   ],
   "source": [
    "#Implementerer algoritmen i python\n",
    "\n",
    "def Search(A,x):\n",
    "    for i in range(0, len(A)):\n",
    "        if A[i] == x:\n",
    "            return True\n",
    "    return False\n",
    "\n",
    "A = [1,2,3,4,5,6,7,8]\n",
    "x1 = 9\n",
    "x2 = 6\n",
    "\n",
    "print(f\"{x1} er i A: {Search(A,x1)}\")\n",
    "print(f\"{x2} er i A: {Search(A,x2)}\")"
   ]
  },
  {
   "cell_type": "markdown",
   "id": "abeba7c5",
   "metadata": {},
   "source": [
    "### Binærsøk\n",
    "Nedenfor ser du spesifikasjonen for søk algoritmen og pseudo implementasjonen\\\n",
    "\n",
    "<img align=\"left\" src=\"images/al_3.png\">\n",
    "<img align=\"left\" src=\"images/al_4.png\">\n"
   ]
  },
  {
   "cell_type": "code",
   "execution_count": 21,
   "id": "a4bc3877",
   "metadata": {},
   "outputs": [
    {
     "name": "stdout",
     "output_type": "stream",
     "text": [
      "20\n",
      "9\n",
      "4\n",
      "6\n",
      "5\n"
     ]
    },
    {
     "data": {
      "text/plain": [
       "True"
      ]
     },
     "execution_count": 21,
     "metadata": {},
     "output_type": "execute_result"
    }
   ],
   "source": [
    "#Python implementasjon\n",
    "\n",
    "def BinarySearch(A,x):\n",
    "    low = 0\n",
    "    high = len(A)\n",
    "    \n",
    "    while low <= high:\n",
    "        i = ((low+high) // 2) #Floor division\n",
    "        print(i)\n",
    "        if A[i] == x:\n",
    "            return True\n",
    "        elif A[i] < x:\n",
    "            low = i+1\n",
    "        elif A[i] > x:\n",
    "            high = i-1\n",
    "    return False\n",
    "\n",
    "A = [i*2 for i in range(41)]\n",
    "x = 10\n",
    "\n",
    "BinarySearch(A,x)"
   ]
  },
  {
   "cell_type": "code",
   "execution_count": null,
   "id": "812ebe6b",
   "metadata": {},
   "outputs": [],
   "source": []
  },
  {
   "cell_type": "code",
   "execution_count": null,
   "id": "92d47ef0",
   "metadata": {},
   "outputs": [],
   "source": []
  },
  {
   "cell_type": "code",
   "execution_count": null,
   "id": "681c47aa",
   "metadata": {},
   "outputs": [],
   "source": []
  },
  {
   "cell_type": "code",
   "execution_count": null,
   "id": "44e7617d",
   "metadata": {},
   "outputs": [],
   "source": []
  },
  {
   "cell_type": "code",
   "execution_count": null,
   "id": "c05505a6",
   "metadata": {},
   "outputs": [],
   "source": []
  },
  {
   "cell_type": "code",
   "execution_count": null,
   "id": "94a25854",
   "metadata": {},
   "outputs": [],
   "source": []
  },
  {
   "cell_type": "code",
   "execution_count": null,
   "id": "9973b184",
   "metadata": {},
   "outputs": [],
   "source": []
  },
  {
   "cell_type": "code",
   "execution_count": null,
   "id": "c6b850ba",
   "metadata": {},
   "outputs": [],
   "source": []
  },
  {
   "cell_type": "code",
   "execution_count": null,
   "id": "3332c76a",
   "metadata": {},
   "outputs": [],
   "source": []
  },
  {
   "cell_type": "code",
   "execution_count": null,
   "id": "da085779",
   "metadata": {},
   "outputs": [],
   "source": []
  },
  {
   "cell_type": "code",
   "execution_count": null,
   "id": "dfc3e72f",
   "metadata": {},
   "outputs": [],
   "source": []
  },
  {
   "cell_type": "code",
   "execution_count": null,
   "id": "3b31aacf",
   "metadata": {},
   "outputs": [],
   "source": []
  },
  {
   "cell_type": "code",
   "execution_count": null,
   "id": "faa85fb9",
   "metadata": {},
   "outputs": [],
   "source": []
  },
  {
   "cell_type": "code",
   "execution_count": null,
   "id": "553e8eaf",
   "metadata": {},
   "outputs": [],
   "source": []
  },
  {
   "cell_type": "code",
   "execution_count": null,
   "id": "e81d6d83",
   "metadata": {},
   "outputs": [],
   "source": []
  },
  {
   "cell_type": "code",
   "execution_count": null,
   "id": "704e5495",
   "metadata": {},
   "outputs": [],
   "source": []
  },
  {
   "cell_type": "code",
   "execution_count": null,
   "id": "c445bfd7",
   "metadata": {},
   "outputs": [],
   "source": []
  },
  {
   "cell_type": "code",
   "execution_count": null,
   "id": "d63fdac7",
   "metadata": {},
   "outputs": [],
   "source": []
  },
  {
   "cell_type": "code",
   "execution_count": null,
   "id": "0070b388",
   "metadata": {},
   "outputs": [],
   "source": []
  },
  {
   "cell_type": "code",
   "execution_count": null,
   "id": "53621b50",
   "metadata": {},
   "outputs": [],
   "source": []
  },
  {
   "cell_type": "code",
   "execution_count": null,
   "id": "881550c3",
   "metadata": {},
   "outputs": [],
   "source": []
  },
  {
   "cell_type": "code",
   "execution_count": null,
   "id": "6ace05dc",
   "metadata": {},
   "outputs": [],
   "source": []
  },
  {
   "cell_type": "code",
   "execution_count": null,
   "id": "c6326891",
   "metadata": {},
   "outputs": [],
   "source": []
  },
  {
   "cell_type": "code",
   "execution_count": null,
   "id": "b30c8d57",
   "metadata": {},
   "outputs": [],
   "source": []
  },
  {
   "cell_type": "code",
   "execution_count": null,
   "id": "34bf3f50",
   "metadata": {},
   "outputs": [],
   "source": []
  },
  {
   "cell_type": "code",
   "execution_count": null,
   "id": "7f6e85dd",
   "metadata": {},
   "outputs": [],
   "source": []
  },
  {
   "cell_type": "code",
   "execution_count": null,
   "id": "586f37be",
   "metadata": {},
   "outputs": [],
   "source": []
  },
  {
   "cell_type": "code",
   "execution_count": null,
   "id": "7b224f01",
   "metadata": {},
   "outputs": [],
   "source": []
  },
  {
   "cell_type": "code",
   "execution_count": null,
   "id": "2f626c3f",
   "metadata": {},
   "outputs": [],
   "source": []
  },
  {
   "cell_type": "code",
   "execution_count": null,
   "id": "d5f4e02d",
   "metadata": {},
   "outputs": [],
   "source": []
  }
 ],
 "metadata": {
  "kernelspec": {
   "display_name": "Python 3",
   "language": "python",
   "name": "python3"
  },
  "language_info": {
   "codemirror_mode": {
    "name": "ipython",
    "version": 3
   },
   "file_extension": ".py",
   "mimetype": "text/x-python",
   "name": "python",
   "nbconvert_exporter": "python",
   "pygments_lexer": "ipython3",
   "version": "3.8.10"
  }
 },
 "nbformat": 4,
 "nbformat_minor": 5
}
