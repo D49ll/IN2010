{
 "cells": [
  {
   "cell_type": "code",
   "execution_count": 24,
   "source": [
    "A = [1,2,3,4,5]\n",
    "x = 2\n",
    "i = len(A)\n",
    "A = A + [0]\n",
    "print(A)\n",
    "while 0 < i:\n",
    "    print(f\"i={i}\")\n",
    "    A[i] = A[i-1]\n",
    "    i -= 1\n",
    "print(f\"i={i}\")\n",
    "print(A)\n",
    "A[i] = x\n",
    "print(A)\n"
   ],
   "outputs": [
    {
     "output_type": "stream",
     "name": "stdout",
     "text": [
      "[1, 2, 3, 4, 5, 0]\n",
      "i=5\n",
      "i=4\n",
      "i=3\n",
      "i=2\n",
      "i=1\n",
      "i=0\n",
      "[1, 1, 2, 3, 4, 5]\n",
      "[2, 1, 2, 3, 4, 5]\n"
     ]
    }
   ],
   "metadata": {}
  },
  {
   "cell_type": "code",
   "execution_count": null,
   "source": [],
   "outputs": [],
   "metadata": {}
  }
 ],
 "metadata": {
  "orig_nbformat": 4,
  "language_info": {
   "name": "python",
   "version": "3.8.10",
   "mimetype": "text/x-python",
   "codemirror_mode": {
    "name": "ipython",
    "version": 3
   },
   "pygments_lexer": "ipython3",
   "nbconvert_exporter": "python",
   "file_extension": ".py"
  },
  "kernelspec": {
   "name": "python3",
   "display_name": "Python 3.8.10 64-bit"
  },
  "interpreter": {
   "hash": "916dbcbb3f70747c44a77c7bcd40155683ae19c65e1c03b4aa3499c5328201f1"
  }
 },
 "nbformat": 4,
 "nbformat_minor": 2
}