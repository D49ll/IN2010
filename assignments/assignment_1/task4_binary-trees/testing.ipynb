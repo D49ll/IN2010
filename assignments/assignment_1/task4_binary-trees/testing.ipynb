{
 "cells": [
  {
   "cell_type": "code",
   "execution_count": 2,
   "source": [
    "A = [x for x in range(11)]\n",
    "\n",
    "def print_binary_tree(A):\n",
    "    if len(A) == 2:\n",
    "        print(A[-1])\n",
    "        print(A[-2])\n",
    "    \n",
    "    elif len(A)%2 == 1:\n",
    "        parent_index = len(A) // 2\n",
    "        print(A[parent_index])\n",
    "        right_child_array = A[parent_index+1:]\n",
    "        left_child_array = A[:parent_index]\n",
    "        print_binary_tree(right_child_array)\n",
    "        print_binary_tree(left_child_array)\n",
    "\n",
    "A\n"
   ],
   "outputs": [
    {
     "output_type": "execute_result",
     "data": {
      "text/plain": [
       "[0, 1, 2, 3, 4, 5, 6, 7, 8, 9, 10]"
      ]
     },
     "metadata": {},
     "execution_count": 2
    }
   ],
   "metadata": {}
  },
  {
   "cell_type": "code",
   "execution_count": 3,
   "source": [
    "print_binary_tree(A)"
   ],
   "outputs": [
    {
     "output_type": "stream",
     "name": "stdout",
     "text": [
      "5\n",
      "8\n",
      "10\n",
      "9\n",
      "7\n",
      "6\n",
      "2\n",
      "4\n",
      "3\n",
      "1\n",
      "0\n"
     ]
    }
   ],
   "metadata": {}
  }
 ],
 "metadata": {
  "orig_nbformat": 4,
  "language_info": {
   "name": "python",
   "version": "3.8.10",
   "mimetype": "text/x-python",
   "codemirror_mode": {
    "name": "ipython",
    "version": 3
   },
   "pygments_lexer": "ipython3",
   "nbconvert_exporter": "python",
   "file_extension": ".py"
  },
  "kernelspec": {
   "name": "python3",
   "display_name": "Python 3.8.10 64-bit"
  },
  "interpreter": {
   "hash": "916dbcbb3f70747c44a77c7bcd40155683ae19c65e1c03b4aa3499c5328201f1"
  }
 },
 "nbformat": 4,
 "nbformat_minor": 2
}