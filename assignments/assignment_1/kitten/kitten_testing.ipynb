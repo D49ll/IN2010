{
 "cells": [
  {
   "cell_type": "code",
   "execution_count": 124,
   "source": [
    "f = open('test0.in', 'r') #Open inputfile\n",
    "\n",
    "Lines = f.read().splitlines() #read each line of file\n",
    "\n",
    "cat_pos = int(Lines[0])\n",
    "\n",
    "parent = []\n",
    "child = []\n",
    "\n",
    "for i in range(1,len(Lines)):\n",
    "    numbers = Lines[i].split(\" \")\n",
    "\n",
    "    a = int(numbers[0])\n",
    "    b = list(list(map(int, numbers[1:])))\n",
    "\n",
    "    if a == -1:\n",
    "        break\n",
    "    else:\n",
    "        parent.append(a)\n",
    "        child.append(b)\n",
    "\n",
    "\n",
    "\n",
    "\n",
    "\n",
    "print(child[10])\n",
    "print(parent[10])\n"
   ],
   "outputs": [
    {
     "output_type": "stream",
     "name": "stdout",
     "text": [
      "[27, 28]\n",
      "26\n"
     ]
    }
   ],
   "metadata": {}
  },
  {
   "cell_type": "code",
   "execution_count": 90,
   "source": [
    "myList = [[]]\n",
    "\n",
    "blist = ['2','3','4']\n",
    "alist = list(map(int, blist))\n",
    "alist\n",
    "\n",
    "type(alist[0])"
   ],
   "outputs": [
    {
     "output_type": "execute_result",
     "data": {
      "text/plain": [
       "int"
      ]
     },
     "metadata": {},
     "execution_count": 90
    }
   ],
   "metadata": {}
  },
  {
   "cell_type": "code",
   "execution_count": null,
   "source": [],
   "outputs": [],
   "metadata": {}
  }
 ],
 "metadata": {
  "orig_nbformat": 4,
  "language_info": {
   "name": "python",
   "version": "3.8.10",
   "mimetype": "text/x-python",
   "codemirror_mode": {
    "name": "ipython",
    "version": 3
   },
   "pygments_lexer": "ipython3",
   "nbconvert_exporter": "python",
   "file_extension": ".py"
  },
  "kernelspec": {
   "name": "python3",
   "display_name": "Python 3.8.10 64-bit"
  },
  "interpreter": {
   "hash": "916dbcbb3f70747c44a77c7bcd40155683ae19c65e1c03b4aa3499c5328201f1"
  }
 },
 "nbformat": 4,
 "nbformat_minor": 2
}